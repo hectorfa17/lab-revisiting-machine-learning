{
 "cells": [
  {
   "cell_type": "markdown",
   "id": "4df30d5e",
   "metadata": {},
   "source": [
    "## Lab | Revisiting Machine Learning Case Study"
   ]
  },
  {
   "cell_type": "code",
   "execution_count": 19,
   "id": "40804325",
   "metadata": {
    "ExecuteTime": {
     "end_time": "2022-05-10T07:54:14.283212Z",
     "start_time": "2022-05-10T07:54:14.278064Z"
    }
   },
   "outputs": [],
   "source": [
    "import pandas as pd\n",
    "import numpy as np\n",
    "import matplotlib.pyplot as plt\n",
    "import seaborn as sns \n",
    "pd.set_option('display.max_columns', None)"
   ]
  },
  {
   "cell_type": "code",
   "execution_count": 38,
   "id": "27703a14",
   "metadata": {
    "ExecuteTime": {
     "end_time": "2022-05-10T07:57:31.756581Z",
     "start_time": "2022-05-10T07:57:23.213010Z"
    }
   },
   "outputs": [],
   "source": [
    "data = pd.read_csv('learningSet.csv', low_memory=False)"
   ]
  },
  {
   "cell_type": "markdown",
   "id": "82c65499",
   "metadata": {},
   "source": [
    "### Complete the following steps on the categorical columns in the dataset:"
   ]
  },
  {
   "cell_type": "markdown",
   "id": "40ac3028",
   "metadata": {},
   "source": [
    "Let's get the Categorical variables first:"
   ]
  },
  {
   "cell_type": "code",
   "execution_count": 39,
   "id": "51c1421d",
   "metadata": {
    "ExecuteTime": {
     "end_time": "2022-05-10T07:57:31.771014Z",
     "start_time": "2022-05-10T07:57:31.760001Z"
    }
   },
   "outputs": [],
   "source": [
    "categorical = data.select_dtypes(include=['object'])"
   ]
  },
  {
   "cell_type": "markdown",
   "id": "aeebde99",
   "metadata": {},
   "source": [
    "### Check for null values in all the columns:\n",
    "Let's create an additional DataFrame with the percentage of NaNs per column"
   ]
  },
  {
   "cell_type": "code",
   "execution_count": 40,
   "id": "c0c64884",
   "metadata": {
    "ExecuteTime": {
     "end_time": "2022-05-10T07:57:32.723502Z",
     "start_time": "2022-05-10T07:57:31.776686Z"
    }
   },
   "outputs": [
    {
     "data": {
      "text/html": [
       "<div>\n",
       "<style scoped>\n",
       "    .dataframe tbody tr th:only-of-type {\n",
       "        vertical-align: middle;\n",
       "    }\n",
       "\n",
       "    .dataframe tbody tr th {\n",
       "        vertical-align: top;\n",
       "    }\n",
       "\n",
       "    .dataframe thead th {\n",
       "        text-align: right;\n",
       "    }\n",
       "</style>\n",
       "<table border=\"1\" class=\"dataframe\">\n",
       "  <thead>\n",
       "    <tr style=\"text-align: right;\">\n",
       "      <th></th>\n",
       "      <th>column_name</th>\n",
       "      <th>nulls_percentage</th>\n",
       "    </tr>\n",
       "  </thead>\n",
       "  <tbody>\n",
       "    <tr>\n",
       "      <th>0</th>\n",
       "      <td>OSOURCE</td>\n",
       "      <td>0.000000</td>\n",
       "    </tr>\n",
       "    <tr>\n",
       "      <th>1</th>\n",
       "      <td>STATE</td>\n",
       "      <td>0.000000</td>\n",
       "    </tr>\n",
       "    <tr>\n",
       "      <th>2</th>\n",
       "      <td>ZIP</td>\n",
       "      <td>0.000000</td>\n",
       "    </tr>\n",
       "    <tr>\n",
       "      <th>3</th>\n",
       "      <td>MAILCODE</td>\n",
       "      <td>0.000000</td>\n",
       "    </tr>\n",
       "    <tr>\n",
       "      <th>4</th>\n",
       "      <td>PVASTATE</td>\n",
       "      <td>0.000000</td>\n",
       "    </tr>\n",
       "    <tr>\n",
       "      <th>...</th>\n",
       "      <td>...</td>\n",
       "      <td>...</td>\n",
       "    </tr>\n",
       "    <tr>\n",
       "      <th>69</th>\n",
       "      <td>RFA_2A</td>\n",
       "      <td>0.000000</td>\n",
       "    </tr>\n",
       "    <tr>\n",
       "      <th>70</th>\n",
       "      <td>MDMAUD_R</td>\n",
       "      <td>0.000000</td>\n",
       "    </tr>\n",
       "    <tr>\n",
       "      <th>71</th>\n",
       "      <td>MDMAUD_F</td>\n",
       "      <td>0.000000</td>\n",
       "    </tr>\n",
       "    <tr>\n",
       "      <th>72</th>\n",
       "      <td>MDMAUD_A</td>\n",
       "      <td>0.000000</td>\n",
       "    </tr>\n",
       "    <tr>\n",
       "      <th>73</th>\n",
       "      <td>GEOCODE2</td>\n",
       "      <td>0.001383</td>\n",
       "    </tr>\n",
       "  </tbody>\n",
       "</table>\n",
       "<p>74 rows × 2 columns</p>\n",
       "</div>"
      ],
      "text/plain": [
       "   column_name  nulls_percentage\n",
       "0      OSOURCE          0.000000\n",
       "1        STATE          0.000000\n",
       "2          ZIP          0.000000\n",
       "3     MAILCODE          0.000000\n",
       "4     PVASTATE          0.000000\n",
       "..         ...               ...\n",
       "69      RFA_2A          0.000000\n",
       "70    MDMAUD_R          0.000000\n",
       "71    MDMAUD_F          0.000000\n",
       "72    MDMAUD_A          0.000000\n",
       "73    GEOCODE2          0.001383\n",
       "\n",
       "[74 rows x 2 columns]"
      ]
     },
     "execution_count": 40,
     "metadata": {},
     "output_type": "execute_result"
    }
   ],
   "source": [
    "nulls_percent_df = pd.DataFrame(categorical.isna().sum()/len(categorical)).reset_index()\n",
    "nulls_percent_df.columns = ['column_name', 'nulls_percentage']\n",
    "nulls_percent_df"
   ]
  },
  {
   "cell_type": "markdown",
   "id": "dd39aa44",
   "metadata": {},
   "source": [
    "### Filtering those columns with NaN values"
   ]
  },
  {
   "cell_type": "code",
   "execution_count": 41,
   "id": "a4adac09",
   "metadata": {
    "ExecuteTime": {
     "end_time": "2022-05-10T07:57:32.761593Z",
     "start_time": "2022-05-10T07:57:32.731605Z"
    }
   },
   "outputs": [
    {
     "data": {
      "text/html": [
       "<div>\n",
       "<style scoped>\n",
       "    .dataframe tbody tr th:only-of-type {\n",
       "        vertical-align: middle;\n",
       "    }\n",
       "\n",
       "    .dataframe tbody tr th {\n",
       "        vertical-align: top;\n",
       "    }\n",
       "\n",
       "    .dataframe thead th {\n",
       "        text-align: right;\n",
       "    }\n",
       "</style>\n",
       "<table border=\"1\" class=\"dataframe\">\n",
       "  <thead>\n",
       "    <tr style=\"text-align: right;\">\n",
       "      <th></th>\n",
       "      <th>column_name</th>\n",
       "      <th>nulls_percentage</th>\n",
       "    </tr>\n",
       "  </thead>\n",
       "  <tbody>\n",
       "    <tr>\n",
       "      <th>73</th>\n",
       "      <td>GEOCODE2</td>\n",
       "      <td>0.001383</td>\n",
       "    </tr>\n",
       "  </tbody>\n",
       "</table>\n",
       "</div>"
      ],
      "text/plain": [
       "   column_name  nulls_percentage\n",
       "73    GEOCODE2          0.001383"
      ]
     },
     "execution_count": 41,
     "metadata": {},
     "output_type": "execute_result"
    }
   ],
   "source": [
    "nulls_percent_df[nulls_percent_df['nulls_percentage']>0]"
   ]
  },
  {
   "cell_type": "markdown",
   "id": "813c5216",
   "metadata": {},
   "source": [
    "The only column with NaN values is GEOCODE2."
   ]
  },
  {
   "cell_type": "markdown",
   "id": "8bd95f1d",
   "metadata": {},
   "source": [
    "### Exclude the following variables by looking at the definitions. Create a new empty list called drop_list. We will append this list and then drop all the columns in this list later:"
   ]
  },
  {
   "cell_type": "markdown",
   "id": "cec04b75",
   "metadata": {},
   "source": [
    "- OSOURCE - symbol definitions not provided, too many categories\n",
    "- ZIP CODE - we are including state already"
   ]
  },
  {
   "cell_type": "code",
   "execution_count": 42,
   "id": "52641ec3",
   "metadata": {
    "ExecuteTime": {
     "end_time": "2022-05-10T07:57:32.884920Z",
     "start_time": "2022-05-10T07:57:32.791710Z"
    }
   },
   "outputs": [],
   "source": [
    "#Checking the actual name of the columns, it seems that \"ZIP CODE\" is just \"ZIP\"\n",
    "nulls_percent_df[nulls_percent_df['column_name'].str.contains('OSOUR')]\n",
    "\n",
    "#Excluding the aforementioned variables from the DataFrame:\n",
    "\n",
    "categorical = categorical.drop(['OSOURCE', 'ZIP'], axis =1)\n",
    "\n",
    "#Creating the list\n",
    "drop_list = []"
   ]
  },
  {
   "cell_type": "markdown",
   "id": "223785a2",
   "metadata": {},
   "source": [
    "### Identify columns that are over 85% missing values:"
   ]
  },
  {
   "cell_type": "code",
   "execution_count": 25,
   "id": "20dc729a",
   "metadata": {
    "ExecuteTime": {
     "end_time": "2022-05-10T07:54:24.817133Z",
     "start_time": "2022-05-10T07:54:24.793487Z"
    }
   },
   "outputs": [
    {
     "data": {
      "text/html": [
       "<div>\n",
       "<style scoped>\n",
       "    .dataframe tbody tr th:only-of-type {\n",
       "        vertical-align: middle;\n",
       "    }\n",
       "\n",
       "    .dataframe tbody tr th {\n",
       "        vertical-align: top;\n",
       "    }\n",
       "\n",
       "    .dataframe thead th {\n",
       "        text-align: right;\n",
       "    }\n",
       "</style>\n",
       "<table border=\"1\" class=\"dataframe\">\n",
       "  <thead>\n",
       "    <tr style=\"text-align: right;\">\n",
       "      <th></th>\n",
       "      <th>column_name</th>\n",
       "      <th>nulls_percentage</th>\n",
       "    </tr>\n",
       "  </thead>\n",
       "  <tbody>\n",
       "  </tbody>\n",
       "</table>\n",
       "</div>"
      ],
      "text/plain": [
       "Empty DataFrame\n",
       "Columns: [column_name, nulls_percentage]\n",
       "Index: []"
      ]
     },
     "execution_count": 25,
     "metadata": {},
     "output_type": "execute_result"
    }
   ],
   "source": [
    "nulls_percent_df[nulls_percent_df['nulls_percentage'] > 0.85]"
   ]
  },
  {
   "cell_type": "markdown",
   "id": "8977efa3",
   "metadata": {},
   "source": [
    "There is no column with more than 85% missing values."
   ]
  },
  {
   "cell_type": "markdown",
   "id": "f3de577f",
   "metadata": {},
   "source": [
    "### Remove those columns from the dataframe:"
   ]
  },
  {
   "cell_type": "markdown",
   "id": "eca7e0cb",
   "metadata": {},
   "source": [
    "Let's better define a function to do all of this more efficiently:"
   ]
  },
  {
   "cell_type": "code",
   "execution_count": 26,
   "id": "556e71da",
   "metadata": {
    "ExecuteTime": {
     "end_time": "2022-05-10T07:54:24.845440Z",
     "start_time": "2022-05-10T07:54:24.836053Z"
    }
   },
   "outputs": [],
   "source": [
    "def high_na_columns(df, threshold = 0.25): #by default we set 25% threshold, although we will input 85%\n",
    "    \n",
    "    nulls_percent_df = pd.DataFrame(df.isna().sum()/len(df)).reset_index()\n",
    "    nulls_percent_df.columns = ['column_name', 'nulls_percentage']\n",
    "    nulls_percent_df[nulls_percent_df['nulls_percentage']!=0]\n",
    "    columns_above_threshold = nulls_percent_df[nulls_percent_df['nulls_percentage']>threshold]\n",
    "    drop_columns_list = list(columns_above_threshold['column_name'])\n",
    "    \n",
    "    return drop_columns_list"
   ]
  },
  {
   "cell_type": "markdown",
   "id": "21e346b6",
   "metadata": {},
   "source": [
    "Now let's apply the function and drop those columns:"
   ]
  },
  {
   "cell_type": "code",
   "execution_count": 27,
   "id": "c8ddd6fb",
   "metadata": {
    "ExecuteTime": {
     "end_time": "2022-05-10T07:54:26.029945Z",
     "start_time": "2022-05-10T07:54:24.851461Z"
    }
   },
   "outputs": [],
   "source": [
    "drop_columns_list = high_na_columns(categorical, 0.85)\n",
    "\n",
    "categorical = categorical.drop(columns = drop_columns_list, axis = 1)"
   ]
  },
  {
   "cell_type": "code",
   "execution_count": 33,
   "id": "4a08f11c",
   "metadata": {
    "ExecuteTime": {
     "end_time": "2022-05-10T07:54:53.895433Z",
     "start_time": "2022-05-10T07:54:53.882675Z"
    }
   },
   "outputs": [
    {
     "data": {
      "text/plain": [
       "[]"
      ]
     },
     "execution_count": 33,
     "metadata": {},
     "output_type": "execute_result"
    }
   ],
   "source": [
    "drop_columns_list"
   ]
  },
  {
   "cell_type": "markdown",
   "id": "b46235c9",
   "metadata": {},
   "source": [
    "### Reduce the number of categories in the column GENDER. The column should only have either \"M\" for males, \"F\" for females, and \"other\" for all the rest:"
   ]
  },
  {
   "cell_type": "markdown",
   "id": "48ec2f8e",
   "metadata": {},
   "source": [
    "Note that there are a few null values in the column. We will first replace those null values using the code below:"
   ]
  },
  {
   "cell_type": "code",
   "execution_count": 28,
   "id": "c4e4f18e",
   "metadata": {
    "ExecuteTime": {
     "end_time": "2022-05-10T07:54:26.091356Z",
     "start_time": "2022-05-10T07:54:26.038460Z"
    }
   },
   "outputs": [],
   "source": [
    "categorical['GENDER'] = categorical['GENDER'].fillna('F')"
   ]
  },
  {
   "cell_type": "markdown",
   "id": "fccadd49",
   "metadata": {},
   "source": [
    "Let's start checking the value counts of this column:"
   ]
  },
  {
   "cell_type": "code",
   "execution_count": 29,
   "id": "57f5125d",
   "metadata": {
    "ExecuteTime": {
     "end_time": "2022-05-10T07:54:26.111469Z",
     "start_time": "2022-05-10T07:54:26.093535Z"
    }
   },
   "outputs": [
    {
     "data": {
      "text/plain": [
       "F    51277\n",
       "M    39094\n",
       "      2957\n",
       "U     1715\n",
       "J      365\n",
       "C        2\n",
       "A        2\n",
       "Name: GENDER, dtype: int64"
      ]
     },
     "execution_count": 29,
     "metadata": {},
     "output_type": "execute_result"
    }
   ],
   "source": [
    "categorical['GENDER'].value_counts(dropna=False)"
   ]
  },
  {
   "cell_type": "markdown",
   "id": "a38e8caf",
   "metadata": {},
   "source": [
    "Let's get a list of all the indices of those rows that are not Female, Male or NaN:"
   ]
  },
  {
   "cell_type": "code",
   "execution_count": 30,
   "id": "30b0f106",
   "metadata": {
    "ExecuteTime": {
     "end_time": "2022-05-10T07:54:26.308702Z",
     "start_time": "2022-05-10T07:54:26.117869Z"
    }
   },
   "outputs": [],
   "source": [
    "#This way we filter all those values which are not Female or Male:\n",
    "#data[(data['GENDER'].isin(['F','M']) == False)]\n",
    "#This way we filter as well the not NaN values:\n",
    "#data[(data['GENDER'].isin(['F','M']) == False) & (data['GENDER'].notna())]['GENDER']\n",
    "\n",
    "#So let's get a list of all the indices of those rows that are not Female, Male or NaN:\n",
    "gen_indices =list(categorical[(categorical['GENDER'].isin(['F','M']) == False) & (categorical['GENDER'].notna())]['GENDER'].index)"
   ]
  },
  {
   "cell_type": "markdown",
   "id": "8fe2d015",
   "metadata": {},
   "source": [
    "Let's change the value of those rows from original gender classification to 'other':"
   ]
  },
  {
   "cell_type": "code",
   "execution_count": 31,
   "id": "6ef92bc5",
   "metadata": {
    "ExecuteTime": {
     "end_time": "2022-05-10T07:54:26.323533Z",
     "start_time": "2022-05-10T07:54:26.311032Z"
    }
   },
   "outputs": [],
   "source": [
    "categorical.iloc[gen_indices,list(categorical.columns).index(\"GENDER\")] = \"other\""
   ]
  },
  {
   "cell_type": "markdown",
   "id": "441fa526",
   "metadata": {},
   "source": [
    "Now if we check the value counts again we can see that the transformation has been applied:"
   ]
  },
  {
   "cell_type": "code",
   "execution_count": 32,
   "id": "6d3583cd",
   "metadata": {
    "ExecuteTime": {
     "end_time": "2022-05-10T07:54:26.342438Z",
     "start_time": "2022-05-10T07:54:26.327505Z"
    }
   },
   "outputs": [
    {
     "data": {
      "text/plain": [
       "F        51277\n",
       "M        39094\n",
       "other     5041\n",
       "Name: GENDER, dtype: int64"
      ]
     },
     "execution_count": 32,
     "metadata": {},
     "output_type": "execute_result"
    }
   ],
   "source": [
    "categorical['GENDER'].value_counts(dropna=False)"
   ]
  }
 ],
 "metadata": {
  "kernelspec": {
   "display_name": "Python 3 (ipykernel)",
   "language": "python",
   "name": "python3"
  },
  "language_info": {
   "codemirror_mode": {
    "name": "ipython",
    "version": 3
   },
   "file_extension": ".py",
   "mimetype": "text/x-python",
   "name": "python",
   "nbconvert_exporter": "python",
   "pygments_lexer": "ipython3",
   "version": "3.9.12"
  },
  "toc": {
   "base_numbering": 1,
   "nav_menu": {},
   "number_sections": true,
   "sideBar": true,
   "skip_h1_title": false,
   "title_cell": "Table of Contents",
   "title_sidebar": "Contents",
   "toc_cell": false,
   "toc_position": {},
   "toc_section_display": true,
   "toc_window_display": false
  }
 },
 "nbformat": 4,
 "nbformat_minor": 5
}
